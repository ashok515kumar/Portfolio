{
 "cells": [
  {
   "cell_type": "code",
   "execution_count": 1,
   "id": "613ffff6",
   "metadata": {},
   "outputs": [],
   "source": [
    "# Install required packages based on your python version\n",
    "# Please install beautifulsoup4 if you have not done it\n",
    "!!pip install beautifulsoup4\n",
    "\n",
    "import numpy as np\n",
    "import pandas as pd\n",
    "import requests\n",
    "from datetime import datetime\n",
    "import yfinance as yf\n",
    "from bs4 import BeautifulSoup\n",
    "import json"
   ]
  },
  {
   "cell_type": "code",
   "execution_count": 2,
   "id": "ec077a99",
   "metadata": {},
   "outputs": [],
   "source": [
    "# Roce calculation\n",
    "'''\n",
    "ROCE = (Operating Income / share holder equity) * 100\n",
    "'''\n",
    "\n",
    "def calc_roce(operating_income, share_holder_equity):\n",
    "    return (operating_income / share_holder_equity) * 100"
   ]
  },
  {
   "cell_type": "code",
   "execution_count": 3,
   "id": "2faf46bf",
   "metadata": {},
   "outputs": [],
   "source": [
    "# price earning ratio\n",
    "'''\n",
    "PRICE_EARN_RATIO = (Stock Price / Earning Per Ratio) * 100 \n",
    "'''\n",
    "\n",
    "def calc_price_earn_ratio(stock_price, earning_per_ratio):\n",
    "    return (stock_price/earning_per_ratio) * 100"
   ]
  },
  {
   "cell_type": "code",
   "execution_count": 4,
   "id": "86bb5439",
   "metadata": {},
   "outputs": [],
   "source": [
    "# Earning Per Share\n",
    "'''\n",
    "Earning Per Share = (Net Income / Number of Ordinary Share) \n",
    "'''\n",
    "\n",
    "def earning_per_share(net_income, number_of_ordinary_share):\n",
    "    return (net_income / number_of_ordinary_share) "
   ]
  },
  {
   "cell_type": "code",
   "execution_count": 5,
   "id": "44090afb",
   "metadata": {},
   "outputs": [],
   "source": [
    "# Liquidity Ratio\n",
    "'''\n",
    "Liquidity Ratio = (Current Assets / Current Liabilities)\n",
    "'''\n",
    "def calc_liquidity_ratio(current_assets,current_liabilities):\n",
    "    return (current_assets/current_liabilities)"
   ]
  },
  {
   "cell_type": "code",
   "execution_count": 7,
   "id": "34d0ab56",
   "metadata": {},
   "outputs": [
    {
     "ename": "AttributeError",
     "evalue": "'NoneType' object has no attribute 'string'",
     "output_type": "error",
     "traceback": [
      "\u001b[1;31m---------------------------------------------------------------------------\u001b[0m",
      "\u001b[1;31mAttributeError\u001b[0m                            Traceback (most recent call last)",
      "\u001b[1;32m<ipython-input-7-61f198948018>\u001b[0m in \u001b[0;36m<module>\u001b[1;34m\u001b[0m\n\u001b[0;32m     50\u001b[0m \u001b[1;32mfor\u001b[0m \u001b[0mstock\u001b[0m \u001b[1;32min\u001b[0m \u001b[0mstocks\u001b[0m\u001b[1;33m:\u001b[0m\u001b[1;33m\u001b[0m\u001b[1;33m\u001b[0m\u001b[0m\n\u001b[0;32m     51\u001b[0m     \u001b[1;31m#asses_good_stocks_yahoo(stock, headers)\u001b[0m\u001b[1;33m\u001b[0m\u001b[1;33m\u001b[0m\u001b[1;33m\u001b[0m\u001b[0m\n\u001b[1;32m---> 52\u001b[1;33m     \u001b[0mdict_stock\u001b[0m\u001b[1;33m[\u001b[0m\u001b[0mstock\u001b[0m\u001b[1;33m]\u001b[0m \u001b[1;33m=\u001b[0m \u001b[0masses_good_stocks_yahoo\u001b[0m\u001b[1;33m(\u001b[0m\u001b[0mstock\u001b[0m\u001b[1;33m,\u001b[0m \u001b[0mheaders\u001b[0m\u001b[1;33m)\u001b[0m\u001b[1;33m\u001b[0m\u001b[1;33m\u001b[0m\u001b[0m\n\u001b[0m\u001b[0;32m     53\u001b[0m \u001b[1;33m\u001b[0m\u001b[0m\n\u001b[0;32m     54\u001b[0m dict_stock = pd.DataFrame.from_dict(dict_stock, orient='index', columns = ['ROCE', 'PRICE_EARNING_RAIO', \n",
      "\u001b[1;32m<ipython-input-7-61f198948018>\u001b[0m in \u001b[0;36masses_good_stocks_yahoo\u001b[1;34m(stock, headers)\u001b[0m\n\u001b[0;32m      3\u001b[0m     \u001b[0mIS\u001b[0m  \u001b[1;33m=\u001b[0m \u001b[0mrequests\u001b[0m\u001b[1;33m.\u001b[0m\u001b[0mget\u001b[0m\u001b[1;33m(\u001b[0m\u001b[1;34mf\"https://stockanalysis.com/stocks/{stock}/financials/\"\u001b[0m\u001b[1;33m,\u001b[0m \u001b[0mheaders\u001b[0m\u001b[1;33m=\u001b[0m\u001b[0mheaders\u001b[0m\u001b[1;33m)\u001b[0m\u001b[1;33m\u001b[0m\u001b[1;33m\u001b[0m\u001b[0m\n\u001b[0;32m      4\u001b[0m     \u001b[0msoup\u001b[0m \u001b[1;33m=\u001b[0m \u001b[0mBeautifulSoup\u001b[0m\u001b[1;33m(\u001b[0m\u001b[0mIS\u001b[0m\u001b[1;33m.\u001b[0m\u001b[0mcontent\u001b[0m\u001b[1;33m,\u001b[0m \u001b[1;34m'html.parser'\u001b[0m\u001b[1;33m)\u001b[0m\u001b[1;33m\u001b[0m\u001b[1;33m\u001b[0m\u001b[0m\n\u001b[1;32m----> 5\u001b[1;33m     \u001b[0mdata\u001b[0m \u001b[1;33m=\u001b[0m \u001b[0mjson\u001b[0m\u001b[1;33m.\u001b[0m\u001b[0mloads\u001b[0m\u001b[1;33m(\u001b[0m\u001b[0msoup\u001b[0m\u001b[1;33m.\u001b[0m\u001b[0mfind\u001b[0m\u001b[1;33m(\u001b[0m\u001b[1;34m'script'\u001b[0m\u001b[1;33m,\u001b[0m \u001b[0mtype\u001b[0m\u001b[1;33m=\u001b[0m\u001b[1;34m'application/json'\u001b[0m\u001b[1;33m)\u001b[0m\u001b[1;33m.\u001b[0m\u001b[0mstring\u001b[0m\u001b[1;33m)\u001b[0m\u001b[1;33m\u001b[0m\u001b[1;33m\u001b[0m\u001b[0m\n\u001b[0m\u001b[0;32m      6\u001b[0m \u001b[1;33m\u001b[0m\u001b[0m\n\u001b[0;32m      7\u001b[0m     \u001b[0mearning_per_share\u001b[0m \u001b[1;33m=\u001b[0m \u001b[0mfloat\u001b[0m\u001b[1;33m(\u001b[0m\u001b[0mdata\u001b[0m\u001b[1;33m[\u001b[0m\u001b[1;34m'data'\u001b[0m\u001b[1;33m]\u001b[0m\u001b[1;33m[\u001b[0m\u001b[1;34m'data'\u001b[0m\u001b[1;33m]\u001b[0m\u001b[1;33m[\u001b[0m\u001b[1;34m'eps'\u001b[0m\u001b[1;33m]\u001b[0m\u001b[1;33m[\u001b[0m\u001b[1;36m1\u001b[0m\u001b[1;33m]\u001b[0m\u001b[1;33m)\u001b[0m \u001b[1;31m# get eps from income-statement\u001b[0m\u001b[1;33m\u001b[0m\u001b[1;33m\u001b[0m\u001b[0m\n",
      "\u001b[1;31mAttributeError\u001b[0m: 'NoneType' object has no attribute 'string'"
     ]
    }
   ],
   "source": [
    "def asses_good_stocks_yahoo(stock, headers):\n",
    "    \n",
    "    IS  = requests.get(f\"https://stockanalysis.com/stocks/{stock}/financials/\", headers=headers)\n",
    "    soup = BeautifulSoup(IS.content, 'html.parser')\n",
    "    data = json.loads(soup.find('script', type='application/json').string)\n",
    "    \n",
    "    earning_per_share = float(data['data']['data']['eps'][1]) # get eps from income-statement\n",
    "    operating_income = float(data['data']['data']['opinc'][1]) # get operating income from income-statment\n",
    "    #dt = data['props']['pageProps']['data']['datekey'][1]\n",
    "    dt = data['data']['data']['datekey'][1]\n",
    "    \n",
    "    BS = requests.get(f\"https://stockanalysis.com/stocks/{stock}/financials/balance-sheet/\", headers=headers)\n",
    "    soup = BeautifulSoup(BS.content, 'html.parser')\n",
    "    data = json.loads(soup.find('script', type='application/json').string) \n",
    "    \n",
    "    \n",
    "    share_holder_equity = float(data['data']['data']['equity'][1]) # get share holder equity from balance sheet\n",
    "    total_current_assets = float(data['data']['data']['assetsc'][1]) # total number of assets from balance sheet\n",
    "    total_current_liabilities = float(data['data']['data']['liabilitiesc'][1]) # liabilities from income stmt\n",
    "    \n",
    "    # get the particular date for calculating price earning ratio\n",
    "    dt_obj = datetime.date(datetime.strptime(dt, '%Y-%m-%d'))\n",
    "    data = yf.download(stock, \n",
    "                      start=dt_obj, \n",
    "                      end=dt_obj,\n",
    "                      progress=False)\n",
    "    stock_price = data['Adj Close'][0]\n",
    "    \n",
    "    ROCE = calc_roce(operating_income, share_holder_equity)\n",
    "    price_earning_ratio = calc_price_earn_ratio(stock_price, earning_per_share)\n",
    "    liquidity_ratio = calc_liquidity_ratio(total_current_assets, total_current_liabilities)\n",
    "    #print('ROCE: ', + ROCE) \n",
    "    #print('Price earning ratio', + price_earning_ratio)\n",
    "    #print('EPS: ', + earning_per_share)\n",
    "    #print('Liquidity Ratio: ', +liquidity_ratio)\n",
    "    return ROCE, price_earning_ratio, earning_per_share, liquidity_ratio\n",
    "    \n",
    "    \n",
    "headers= {\n",
    "    'user-agent': 'Mozilla/5.0 (Windows NT 10.0; Win64; x64; rv:87.0) Gecko/20100101 Firefox/87.0',\n",
    "    'Accept': 'text/html,application/xhtml+xml,application/xml;q=0.9,image/webp,*/*;q=0.8',\n",
    "    'Accept-Language': 'en-US,en;q=0.5',\n",
    "    'Connection': 'keep-alive',\n",
    "    'Upgrade-Insecure-Requests': '1',\n",
    "    'Cache-Control': 'max-age=0'\n",
    "}\n",
    "\n",
    "stocks = ['AAPL', 'GOOG', 'MSFT', 'AMZN', 'TSLA','TGT', 'UNH', 'V', 'DIS', 'KO']\n",
    "dict_stock = {}\n",
    "for stock in stocks:\n",
    "    #asses_good_stocks_yahoo(stock, headers)\n",
    "    dict_stock[stock] = asses_good_stocks_yahoo(stock, headers)\n",
    "\n",
    "dict_stock = pd.DataFrame.from_dict(dict_stock, orient='index', columns = ['ROCE', 'PRICE_EARNING_RAIO', \n",
    "                                                                          'EPS', 'Liquidity_RATIO'])\n",
    "print(dict_stock)"
   ]
  },
  {
   "cell_type": "code",
   "execution_count": null,
   "id": "f41fe792",
   "metadata": {},
   "outputs": [],
   "source": []
  },
  {
   "cell_type": "code",
   "execution_count": null,
   "id": "99673a8b",
   "metadata": {},
   "outputs": [],
   "source": []
  }
 ],
 "metadata": {
  "kernelspec": {
   "display_name": "Python 3",
   "language": "python",
   "name": "python3"
  },
  "language_info": {
   "codemirror_mode": {
    "name": "ipython",
    "version": 3
   },
   "file_extension": ".py",
   "mimetype": "text/x-python",
   "name": "python",
   "nbconvert_exporter": "python",
   "pygments_lexer": "ipython3",
   "version": "3.8.8"
  }
 },
 "nbformat": 4,
 "nbformat_minor": 5
}
