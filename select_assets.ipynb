{
 "cells": [
  {
   "cell_type": "code",
   "execution_count": 7,
   "id": "613ffff6",
   "metadata": {},
   "outputs": [],
   "source": [
    "# Install required packages based on your python version\n",
    "# Please install beautifulsoup4 if you have not done it\n",
    "!!pip install beautifulsoup4\n",
    "\n",
    "import numpy as np\n",
    "import pandas as pd\n",
    "import requests\n",
    "from datetime import datetime\n",
    "import yfinance as yf\n",
    "from bs4 import BeautifulSoup\n",
    "import json"
   ]
  },
  {
   "cell_type": "code",
   "execution_count": 2,
   "id": "ec077a99",
   "metadata": {},
   "outputs": [],
   "source": [
    "# Roce calculation\n",
    "'''\n",
    "ROCE = (Operating Income / share holder equity) * 100\n",
    "'''\n",
    "\n",
    "def calc_roce(operating_income, share_holder_equity):\n",
    "    return (operating_income / share_holder_equity) * 100"
   ]
  },
  {
   "cell_type": "code",
   "execution_count": 3,
   "id": "2faf46bf",
   "metadata": {},
   "outputs": [],
   "source": [
    "# price earning ratio\n",
    "'''\n",
    "PRICE_EARN_RATIO = (Stock Price / Earning Per Ratio) * 100 \n",
    "'''\n",
    "\n",
    "def calc_price_earn_ratio(stock_price, earning_per_ratio):\n",
    "    return (stock_price/earning_per_ratio) * 100"
   ]
  },
  {
   "cell_type": "code",
   "execution_count": 4,
   "id": "86bb5439",
   "metadata": {},
   "outputs": [],
   "source": [
    "# Earning Per Share\n",
    "'''\n",
    "Earning Per Share = (Net Income / Number of Ordinary Share) \n",
    "'''\n",
    "\n",
    "def earning_per_share(net_income, number_of_ordinary_share):\n",
    "    return (net_income / number_of_ordinary_share) "
   ]
  },
  {
   "cell_type": "code",
   "execution_count": 5,
   "id": "44090afb",
   "metadata": {},
   "outputs": [],
   "source": [
    "# Liquidity Ratio\n",
    "'''\n",
    "Liquidity Ratio = (Current Assets / Current Liabilities)\n",
    "'''\n",
    "def calc_liquidity_ratio(current_assets,current_liabilities):\n",
    "    return (current_assets/current_liabilities)"
   ]
  },
  {
   "cell_type": "code",
   "execution_count": 6,
   "id": "34d0ab56",
   "metadata": {},
   "outputs": [
    {
     "name": "stdout",
     "output_type": "stream",
     "text": [
      "            ROCE  PRICE_EARNING_RAIO     EPS  Liquidity_RATIO\n",
      "AAPL  172.688223         2576.742559   5.670         1.074553\n",
      "GOOG   31.281022         2564.146513   5.694         2.928113\n",
      "MSFT   50.067250         2677.409693   9.700         1.784607\n",
      "AMZN   17.996311         5113.538530   3.298         1.135760\n",
      "TSLA   21.607208        19113.213675   5.600         1.375285\n",
      "TGT    69.743510         1507.355187  14.230         0.991999\n",
      "UNH    33.403010         2734.066994  18.330         0.788816\n",
      "V      42.044215         3997.953425   5.630         1.754050\n",
      "DIS     3.393448        16147.705918   1.090         1.083020\n",
      "KO     44.819340         2562.612010   2.260         1.130075\n"
     ]
    }
   ],
   "source": [
    "def asses_good_stocks_yahoo(stock, headers):\n",
    "    \n",
    "    IS  = requests.get(f\"https://stockanalysis.com/stocks/{stock}/financials/\", headers=headers)\n",
    "    soup = BeautifulSoup(IS.content, 'html.parser')\n",
    "    data = json.loads(soup.find('script', type='application/json').string)\n",
    "    \n",
    "    earning_per_share = float(data['data']['data']['eps'][1]) # get eps from income-statement\n",
    "    operating_income = float(data['data']['data']['opinc'][1]) # get operating income from income-statment\n",
    "    #dt = data['props']['pageProps']['data']['datekey'][1]\n",
    "    dt = data['data']['data']['datekey'][1]\n",
    "    \n",
    "    BS = requests.get(f\"https://stockanalysis.com/stocks/{stock}/financials/balance-sheet/\", headers=headers)\n",
    "    soup = BeautifulSoup(BS.content, 'html.parser')\n",
    "    data = json.loads(soup.find('script', type='application/json').string) \n",
    "    \n",
    "    \n",
    "    share_holder_equity = float(data['data']['data']['equity'][1]) # get share holder equity from balance sheet\n",
    "    total_current_assets = float(data['data']['data']['assetsc'][1]) # total number of assets from balance sheet\n",
    "    total_current_liabilities = float(data['data']['data']['liabilitiesc'][1]) # liabilities from income stmt\n",
    "    \n",
    "    # get the particular date for calculating price earning ratio\n",
    "    dt_obj = datetime.date(datetime.strptime(dt, '%Y-%m-%d'))\n",
    "    data = yf.download(stock, \n",
    "                      start=dt_obj, \n",
    "                      end=dt_obj,\n",
    "                      progress=False)\n",
    "    stock_price = data['Adj Close'][0]\n",
    "    \n",
    "    ROCE = calc_roce(operating_income, share_holder_equity)\n",
    "    price_earning_ratio = calc_price_earn_ratio(stock_price, earning_per_share)\n",
    "    liquidity_ratio = calc_liquidity_ratio(total_current_assets, total_current_liabilities)\n",
    "    #print('ROCE: ', + ROCE) \n",
    "    #print('Price earning ratio', + price_earning_ratio)\n",
    "    #print('EPS: ', + earning_per_share)\n",
    "    #print('Liquidity Ratio: ', +liquidity_ratio)\n",
    "    return ROCE, price_earning_ratio, earning_per_share, liquidity_ratio\n",
    "    \n",
    "    \n",
    "headers= {\n",
    "    'user-agent': 'Mozilla/5.0 (Windows NT 10.0; Win64; x64; rv:87.0) Gecko/20100101 Firefox/87.0',\n",
    "    'Accept': 'text/html,application/xhtml+xml,application/xml;q=0.9,image/webp,*/*;q=0.8',\n",
    "    'Accept-Language': 'en-US,en;q=0.5',\n",
    "    'Connection': 'keep-alive',\n",
    "    'Upgrade-Insecure-Requests': '1',\n",
    "    'Cache-Control': 'max-age=0'\n",
    "}\n",
    "\n",
    "stocks = ['AAPL', 'GOOG', 'MSFT', 'AMZN', 'TSLA','TGT', 'UNH', 'V', 'DIS', 'KO']\n",
    "dict_stock = {}\n",
    "for stock in stocks:\n",
    "    #asses_good_stocks_yahoo(stock, headers)\n",
    "    dict_stock[stock] = asses_good_stocks_yahoo(stock, headers)\n",
    "\n",
    "dict_stock = pd.DataFrame.from_dict(dict_stock, orient='index', columns = ['ROCE', 'PRICE_EARNING_RAIO', \n",
    "                                                                          'EPS', 'Liquidity_RATIO'])\n",
    "print(dict_stock)"
   ]
  },
  {
   "cell_type": "code",
   "execution_count": null,
   "id": "f41fe792",
   "metadata": {},
   "outputs": [],
   "source": []
  },
  {
   "cell_type": "code",
   "execution_count": null,
   "id": "99673a8b",
   "metadata": {},
   "outputs": [],
   "source": []
  }
 ],
 "metadata": {
  "kernelspec": {
   "display_name": "Python 3",
   "language": "python",
   "name": "python3"
  },
  "language_info": {
   "codemirror_mode": {
    "name": "ipython",
    "version": 3
   },
   "file_extension": ".py",
   "mimetype": "text/x-python",
   "name": "python",
   "nbconvert_exporter": "python",
   "pygments_lexer": "ipython3",
   "version": "3.8.8"
  }
 },
 "nbformat": 4,
 "nbformat_minor": 5
}
